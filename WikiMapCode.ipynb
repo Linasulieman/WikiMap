{
 "cells": [
  {
   "cell_type": "code",
   "execution_count": null,
   "metadata": {},
   "outputs": [],
   "source": [
    "!pip install wikipedia"
   ]
  },
  {
   "cell_type": "code",
   "execution_count": 1,
   "metadata": {},
   "outputs": [],
   "source": [
    "import wikipedia\n",
    "import pandas as pd\n",
    "from googletrans import Translator"
   ]
  },
  {
   "cell_type": "code",
   "execution_count": 2,
   "metadata": {},
   "outputs": [
    {
     "name": "stdout",
     "output_type": "stream",
     "text": [
      "    Language      WP Code\n",
      "0       Afar  aa (closed)\n",
      "1  Abkhazian           ab\n",
      "2   Acehnese          ace\n",
      "3     Adyghe          ady\n",
      "4  Afrikaans           af\n"
     ]
    }
   ],
   "source": [
    "wiki_lag_abbr=pd.read_csv(\"Wiki_Lang_abb.csv\")\n",
    "print (wiki_lag_abbr.head())\n"
   ]
  },
  {
   "cell_type": "code",
   "execution_count": 13,
   "metadata": {},
   "outputs": [],
   "source": [
    "wikipedia.set_lang(\"en\")\n",
    "disease_string=\"Rheumatoid arthritis\""
   ]
  },
  {
   "cell_type": "code",
   "execution_count": 14,
   "metadata": {},
   "outputs": [],
   "source": [
    "diseasePage=wikipedia.page(disease_string)#Squamous cell skin cancer\")"
   ]
  },
  {
   "cell_type": "code",
   "execution_count": 15,
   "metadata": {},
   "outputs": [
    {
     "data": {
      "text/plain": [
       "('25875', 'Rheumatoid arthritis')"
      ]
     },
     "execution_count": 15,
     "metadata": {},
     "output_type": "execute_result"
    }
   ],
   "source": [
    "diseasePage.pageid,diseasePage.title\n"
   ]
  },
  {
   "cell_type": "code",
   "execution_count": 6,
   "metadata": {},
   "outputs": [],
   "source": [
    "page_external_links=diseasePage.references\n"
   ]
  },
  {
   "cell_type": "code",
   "execution_count": 7,
   "metadata": {},
   "outputs": [],
   "source": [
    "concepts_external_links={'ICD-9' : 'http://www.icd9data.com/getICD9Code.ashx?icd9=',\n",
    "'ICD-10' : 'http://apps.who.int/classifications/icd10/browse/2016/en#/',\n",
    "'MESH' : 'https://www.nlm.nih.gov/cgi/mesh/2015/MB_cgi?field=uid&term=',\n",
    "'MedlinePlus' : 'https://www.nlm.nih.gov/medlineplus/ency/article/',\n",
    "'OMIM' : 'https://omim.org/entry/',\n",
    "'Orphanet' : 'http://www.orpha.net/consor/cgi-bin/OC_Exp.php?lng=en&Expert=',\n",
    "'DiseaseDB' : 'http://www.diseasesdatabase.com/',\n",
    "'ICDO':'https://progenetix.org/subsets/?term_id=icdom:'}\n",
    "\n"
   ]
  },
  {
   "cell_type": "code",
   "execution_count": 11,
   "metadata": {},
   "outputs": [
    {
     "name": "stdout",
     "output_type": "stream",
     "text": [
      "   Terminology      Code                                           CodeLink  \\\n",
      "0       ICD-10       M05  http://apps.who.int/classifications/icd10/brow...   \n",
      "1       ICD-10       M06  http://apps.who.int/classifications/icd10/brow...   \n",
      "2       ICD-10       M45  http://apps.who.int/classifications/icd10/brow...   \n",
      "3  MedlinePlus    000431  https://www.nlm.nih.gov/medlineplus/ency/artic...   \n",
      "4        ICD-9       714  http://www.icd9data.com/getICD9Code.ashx?icd9=714   \n",
      "5         MESH   D001172  https://www.nlm.nih.gov/cgi/mesh/2015/MB_cgi?f...   \n",
      "6         OMIM    180300                      https://omim.org/entry/180300   \n",
      "7    DiseaseDB  ddb11506       http://www.diseasesdatabase.com/ddb11506.htm   \n",
      "\n",
      "                  title page_id  \n",
      "0  Rheumatoid arthritis   25875  \n",
      "1  Rheumatoid arthritis   25875  \n",
      "2  Rheumatoid arthritis   25875  \n",
      "3  Rheumatoid arthritis   25875  \n",
      "4  Rheumatoid arthritis   25875  \n",
      "5  Rheumatoid arthritis   25875  \n",
      "6  Rheumatoid arthritis   25875  \n",
      "7  Rheumatoid arthritis   25875  \n"
     ]
    }
   ],
   "source": [
    "page_external_links=pd.DataFrame(page_external_links)\n",
    "page_external_links.columns=[\"links\"]\n",
    "mapped_codes_list=[]\n",
    "\n",
    "page_external_links=pd.DataFrame(page_external_links)\n",
    "page_external_links.columns=[\"links\"]\n",
    "for key in concepts_external_links:\n",
    "    code_page_link=page_external_links.loc[page_external_links[\"links\"].apply(lambda x: concepts_external_links[key] in x)][\"links\"]\n",
    "    if code_page_link.shape[0] >0:\n",
    "        for link_i in range(code_page_link.shape[0]):\n",
    "            mapped_code_value=code_page_link.values[link_i].replace( concepts_external_links[key] ,\"\")\n",
    "            mapped_codes_list.append([key,mapped_code_value.replace(\".htm\",\"\"),code_page_link.values[link_i],diseasePage.title, diseasePage.pageid])\n",
    "\n",
    "mapped_codes_df=pd.DataFrame(mapped_codes_list)\n",
    "mapped_codes_df.columns=[\"Terminology\",\"Code\",\"CodeLink\",\"title\",\"page_id\"]\n",
    "print (mapped_codes_df)\n"
   ]
  },
  {
   "cell_type": "code",
   "execution_count": 12,
   "metadata": {},
   "outputs": [
    {
     "data": {
      "text/html": [
       "<div>\n",
       "<style scoped>\n",
       "    .dataframe tbody tr th:only-of-type {\n",
       "        vertical-align: middle;\n",
       "    }\n",
       "\n",
       "    .dataframe tbody tr th {\n",
       "        vertical-align: top;\n",
       "    }\n",
       "\n",
       "    .dataframe thead th {\n",
       "        text-align: right;\n",
       "    }\n",
       "</style>\n",
       "<table border=\"1\" class=\"dataframe\">\n",
       "  <thead>\n",
       "    <tr style=\"text-align: right;\">\n",
       "      <th></th>\n",
       "      <th>Language</th>\n",
       "      <th>WP Code</th>\n",
       "    </tr>\n",
       "  </thead>\n",
       "  <tbody>\n",
       "    <tr>\n",
       "      <th>0</th>\n",
       "      <td>Afar</td>\n",
       "      <td>aa (closed)</td>\n",
       "    </tr>\n",
       "    <tr>\n",
       "      <th>1</th>\n",
       "      <td>Abkhazian</td>\n",
       "      <td>ab</td>\n",
       "    </tr>\n",
       "    <tr>\n",
       "      <th>2</th>\n",
       "      <td>Acehnese</td>\n",
       "      <td>ace</td>\n",
       "    </tr>\n",
       "    <tr>\n",
       "      <th>3</th>\n",
       "      <td>Adyghe</td>\n",
       "      <td>ady</td>\n",
       "    </tr>\n",
       "    <tr>\n",
       "      <th>4</th>\n",
       "      <td>Afrikaans</td>\n",
       "      <td>af</td>\n",
       "    </tr>\n",
       "  </tbody>\n",
       "</table>\n",
       "</div>"
      ],
      "text/plain": [
       "    Language      WP Code\n",
       "0       Afar  aa (closed)\n",
       "1  Abkhazian           ab\n",
       "2   Acehnese          ace\n",
       "3     Adyghe          ady\n",
       "4  Afrikaans           af"
      ]
     },
     "execution_count": 12,
     "metadata": {},
     "output_type": "execute_result"
    }
   ],
   "source": [
    "Wiki_languages=pd.read_csv(\"Wiki_Lang_abb.csv\")\n",
    "Wiki_languages.head()"
   ]
  },
  {
   "cell_type": "markdown",
   "metadata": {},
   "source": [
    "<b> get the page in another language</b>"
   ]
  },
  {
   "cell_type": "code",
   "execution_count": 6,
   "metadata": {},
   "outputs": [
    {
     "data": {
      "text/plain": [
       "'Rheumatoid Arthritis'"
      ]
     },
     "execution_count": 6,
     "metadata": {},
     "output_type": "execute_result"
    }
   ],
   "source": [
    "#wikipedia.set_lang(\"zh\")\n",
    "#ch=wikipedia.page(\"类风湿关节炎\")\n",
    "translator = Translator()\n",
    "translator.translate(\"类风湿关节炎\", dest='en').text"
   ]
  },
  {
   "cell_type": "code",
   "execution_count": 16,
   "metadata": {},
   "outputs": [
    {
     "data": {
      "text/plain": [
       "'大腸直腸癌（英语：Colorectal cancer），又稱為大腸癌、直腸癌、大肠直肠癌、结肠直肠癌、或腸癌，為源自結腸或直腸（為大腸的一部份）的癌症。因為細胞不正常的生長，可能侵犯或轉移至身體其他部。症狀可能包括糞便中帶血、排便習慣改變、體重減輕、以及疲倦感。\\n大部份的大腸直腸癌起因為生活習慣及老化，少部分則因為遺傳疾病。風險因子包括飲食、肥胖、抽煙、運動量不足。增加罹癌風險的飲食包含紅肉或加工肉品、以及酒精。其他風險因子包含發炎性腸道疾病（分為克隆氏症和潰瘍性大腸炎）。某些可能造成大腸直腸癌的遺傳疾病為家族性結直腸瘜肉綜合症和遺傳性非瘜肉症結直腸癌，然而這些遺傳性疾病占大腸直腸癌所有病例中的比例不到5%。大腸直腸癌通常源自良性腫瘤，然而隨時間進展變成惡性腫瘤。\\n腸癌的診斷可藉由乙狀結腸鏡或大腸鏡檢查切片。接著由影像檢查查看是否轉移。進行大腸直腸癌的篩檢可有效降低死亡率，目前建議50歲以上至75歲規則接受篩檢。阿斯匹靈及其他非類固醇抗發炎藥物可降低罹癌風險，但由於藥物的副作用，目前並不建議常規使用它們來預防大腸直腸癌的發生。\\n治療方式包括手術、放射線治療、化學治療、及標靶治療或是合併使用以上療法。侷限在腸壁的大腸直腸癌可能藉由手術治癒，然而當癌症已擴散或轉移時則不然，此時則以改善生活品質及症狀為治療目標。在美國，五年存活率約65%，然而主要取決於病人健康狀況與癌症分期，而分期又關係到是否能藉由手術移除。整體來說，大腸直腸癌為第三常見癌症，約占10%。在2012年，有140萬例新診斷的大腸直腸癌，且造成69.4萬人死亡。大腸直腸癌在已開發國家較為常見，占全世界總案例數的65％。而在女性較男性少見。'"
      ]
     },
     "execution_count": 16,
     "metadata": {},
     "output_type": "execute_result"
    }
   ],
   "source": [
    "wikipedia.set_lang(\"zh\")\n",
    "ch=wikipedia.page(\"Colorectal cancer\")\n",
    "ch.summary"
   ]
  },
  {
   "cell_type": "code",
   "execution_count": 12,
   "metadata": {},
   "outputs": [
    {
     "ename": "NameError",
     "evalue": "name 'ch' is not defined",
     "output_type": "error",
     "traceback": [
      "\u001b[0;31m---------------------------------------------------------------------------\u001b[0m",
      "\u001b[0;31mNameError\u001b[0m                                 Traceback (most recent call last)",
      "\u001b[0;32m<ipython-input-12-50db6870a35b>\u001b[0m in \u001b[0;36m<module>\u001b[0;34m()\u001b[0m\n\u001b[0;32m----> 1\u001b[0;31m \u001b[0mch\u001b[0m\u001b[0;34m.\u001b[0m\u001b[0mreferences\u001b[0m\u001b[0;34m\u001b[0m\u001b[0m\n\u001b[0m",
      "\u001b[0;31mNameError\u001b[0m: name 'ch' is not defined"
     ]
    }
   ],
   "source": [
    "ch.references"
   ]
  },
  {
   "cell_type": "code",
   "execution_count": null,
   "metadata": {},
   "outputs": [],
   "source": []
  }
 ],
 "metadata": {
  "kernelspec": {
   "display_name": "Python 3",
   "language": "python",
   "name": "python3"
  },
  "language_info": {
   "codemirror_mode": {
    "name": "ipython",
    "version": 3
   },
   "file_extension": ".py",
   "mimetype": "text/x-python",
   "name": "python",
   "nbconvert_exporter": "python",
   "pygments_lexer": "ipython3",
   "version": "3.5.6"
  }
 },
 "nbformat": 4,
 "nbformat_minor": 2
}
